{
 "cells": [
  {
   "cell_type": "code",
   "execution_count": 24,
   "metadata": {},
   "outputs": [
    {
     "data": {
      "text/plain": [
       " active_mask: array([ 1, -1, -1, ..., -1,  0,  1])\n",
       "        cost: 11150.33129346071\n",
       "         fun: array([ 0.00219242, -0.10699277, -0.70574952, ...,  0.76716404,\n",
       "       -0.40184636,  0.67399679])\n",
       "     message: 'The relative change of the cost function is less than `tol`.'\n",
       "         nit: 36\n",
       "  optimality: 1.2973160168040168e-07\n",
       "      status: 2\n",
       "     success: True\n",
       "           x: array([ 0.54987404, -0.05812073,  1.34915899, ...,  1.36754417,\n",
       "        0.        , -0.96004356])"
      ]
     },
     "execution_count": 24,
     "metadata": {},
     "output_type": "execute_result"
    }
   ],
   "source": [
    "from scipy.sparse import rand\n",
    "from scipy.optimize import lsq_linear\n",
    "np.random.seed(0)\n",
    "m = 20000\n",
    "n = 10000\n",
    "A = rand(m, n, density=1e-4)\n",
    "b = np.random.randn(m)\n",
    "lb = np.random.randn(n)\n",
    "ub = lb + 1\n",
    "res = lsq_linear(A, b, bounds=(lb, ub))\n",
    "res"
   ]
  },
  {
   "cell_type": "raw",
   "metadata": {},
   "source": []
  },
  {
   "cell_type": "code",
   "execution_count": 9,
   "metadata": {},
   "outputs": [
    {
     "data": {
      "text/plain": [
       "matrix([[  3,   2],\n",
       "        [200, 500]], dtype=int32)"
      ]
     },
     "execution_count": 9,
     "metadata": {},
     "output_type": "execute_result"
    }
   ],
   "source": [
    "from scipy.sparse import csr_matrix\n",
    "from scipy import sparse\n",
    "A = sparse.csr_matrix(([3,2,200,500],([0,0,1,1],[0,1,0,1])), shape=(2,2)) \n",
    "R = [17,2600]\n",
    "A.todense()"
   ]
  },
  {
   "cell_type": "code",
   "execution_count": 17,
   "metadata": {},
   "outputs": [
    {
     "data": {
      "text/plain": [
       "matrix([[3., 4.]])"
      ]
     },
     "execution_count": 17,
     "metadata": {},
     "output_type": "execute_result"
    }
   ],
   "source": [
    "U = A.transpose().dot(A).todense()\n",
    "V = A.transpose().dot(R)\n",
    "np.linalg.pinv(U,hermitian =True).dot(V)[0,:]"
   ]
  }
 ],
 "metadata": {
  "kernelspec": {
   "display_name": "Python 3",
   "language": "python",
   "name": "python3"
  },
  "language_info": {
   "codemirror_mode": {
    "name": "ipython",
    "version": 3
   },
   "file_extension": ".py",
   "mimetype": "text/x-python",
   "name": "python",
   "nbconvert_exporter": "python",
   "pygments_lexer": "ipython3",
   "version": "3.7.4"
  }
 },
 "nbformat": 4,
 "nbformat_minor": 2
}
